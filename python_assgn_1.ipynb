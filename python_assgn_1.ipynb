{
 "cells": [
  {
   "cell_type": "raw",
   "metadata": {},
   "source": [
    "1. Multiple of 7 but not divisible by 5 in (2000,3200) inclusive."
   ]
  },
  {
   "cell_type": "code",
   "execution_count": 41,
   "metadata": {},
   "outputs": [],
   "source": [
    "def is_divisible(x,y,ll,ul):\n",
    "    '''\n",
    "    Arguments ::\n",
    "    x : Integer - Multiplicity check\n",
    "    y : Integer - Divisiblity check\n",
    "    ll : Integer - Lower limit\n",
    "    rl : Integer - Upper limit\n",
    "    \n",
    "    Return :\n",
    "    res : String \n",
    "    '''\n",
    "    res = ''\n",
    "    for i in range(ll,rl+1):\n",
    "        if i%7 == 0 and i%5!= 0:\n",
    "            res+=str(i)+','\n",
    "    return res[:len(res)-1]\n",
    "\n",
    "#print(is_divisible(7,5,2000,3200))"
   ]
  },
  {
   "cell_type": "raw",
   "metadata": {},
   "source": [
    "2. Accept first, last name and print in reverse order."
   ]
  },
  {
   "cell_type": "code",
   "execution_count": 48,
   "metadata": {},
   "outputs": [],
   "source": [
    "def str_reverse():\n",
    "    '''\n",
    "        Return :\n",
    "        name : String \n",
    "    '''\n",
    "    fname = input('Enter first name : ')\n",
    "    lname = input('Enter Last name : ')\n",
    "    name = fname+' '+lname\n",
    "    return name[::-1]\n",
    "#print(str_reverse())"
   ]
  },
  {
   "cell_type": "raw",
   "metadata": {},
   "source": [
    "3. Volume of a sphere"
   ]
  },
  {
   "cell_type": "code",
   "execution_count": 65,
   "metadata": {},
   "outputs": [],
   "source": [
    "import math\n",
    "def sphere_volume(r):\n",
    "    '''\n",
    "    Arguments:\n",
    "        r : Integer - Radius of a sphere\n",
    "    Return :\n",
    "        Decimal \n",
    "    '''\n",
    "    return str(round(4/3 * math.pi * math.pow(r,3),2))+' cc'\n",
    "#print(sphere_volume(12))"
   ]
  }
 ],
 "metadata": {
  "kernelspec": {
   "display_name": "Python 3",
   "language": "python",
   "name": "python3"
  },
  "language_info": {
   "codemirror_mode": {
    "name": "ipython",
    "version": 3
   },
   "file_extension": ".py",
   "mimetype": "text/x-python",
   "name": "python",
   "nbconvert_exporter": "python",
   "pygments_lexer": "ipython3",
   "version": "3.7.6"
  },
  "varInspector": {
   "cols": {
    "lenName": 16,
    "lenType": 16,
    "lenVar": 40
   },
   "kernels_config": {
    "python": {
     "delete_cmd_postfix": "",
     "delete_cmd_prefix": "del ",
     "library": "var_list.py",
     "varRefreshCmd": "print(var_dic_list())"
    },
    "r": {
     "delete_cmd_postfix": ") ",
     "delete_cmd_prefix": "rm(",
     "library": "var_list.r",
     "varRefreshCmd": "cat(var_dic_list()) "
    }
   },
   "types_to_exclude": [
    "module",
    "function",
    "builtin_function_or_method",
    "instance",
    "_Feature"
   ],
   "window_display": false
  }
 },
 "nbformat": 4,
 "nbformat_minor": 4
}
